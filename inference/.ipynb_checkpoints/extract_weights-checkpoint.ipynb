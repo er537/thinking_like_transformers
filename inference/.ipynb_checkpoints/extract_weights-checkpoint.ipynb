{
 "cells": [
  {
   "cell_type": "code",
   "execution_count": 1,
   "id": "81f5aa94",
   "metadata": {},
   "outputs": [
    {
     "name": "stdout",
     "output_type": "stream",
     "text": [
      "/Users/ellenar/git/tracr\n"
     ]
    }
   ],
   "source": [
    "cd ~/git/tracr"
   ]
  },
  {
   "cell_type": "code",
   "execution_count": 2,
   "id": "0eae6198",
   "metadata": {},
   "outputs": [],
   "source": [
    "#@title Imports\n",
    "import jax\n",
    "import numpy as np\n",
    "\n",
    "# The default of float16 can lead to discrepancies between outputs of\n",
    "# the compiled model and the RASP program.\n",
    "jax.config.update('jax_default_matmul_precision', 'float32')\n",
    "\n",
    "from tracr.compiler import compiling\n",
    "from tracr.rasp import rasp\n",
    "import torch\n",
    "import torch.nn as nn"
   ]
  },
  {
   "cell_type": "code",
   "execution_count": 3,
   "id": "402373a8",
   "metadata": {},
   "outputs": [],
   "source": [
    "from model.transformer_model import TransformerModel"
   ]
  },
  {
   "cell_type": "code",
   "execution_count": 4,
   "id": "e423be32",
   "metadata": {},
   "outputs": [],
   "source": [
    "def make_length():\n",
    "  all_true_selector = rasp.Select(rasp.tokens, rasp.tokens, rasp.Comparison.TRUE)\n",
    "  return rasp.SelectorWidth(all_true_selector)"
   ]
  },
  {
   "cell_type": "code",
   "execution_count": 5,
   "id": "8b1e9f95",
   "metadata": {},
   "outputs": [
    {
     "name": "stderr",
     "output_type": "stream",
     "text": [
      "WARNING:absl:Creating a SequenceMap with both inputs being the same SOp is discouraged. You should use a Map instead.\n"
     ]
    }
   ],
   "source": [
    "def reverse():\n",
    "    length = make_length()  # `length` is not a primitive in our implementation.\n",
    "    opp_index = length - rasp.indices - 1\n",
    "    flip = rasp.Select(rasp.indices, opp_index, rasp.Comparison.EQ)\n",
    "    reverse = rasp.Aggregate(flip, rasp.tokens)\n",
    "    return reverse\n",
    "reverse= reverse()"
   ]
  },
  {
   "cell_type": "code",
   "execution_count": 6,
   "id": "763a8e77",
   "metadata": {},
   "outputs": [],
   "source": [
    "bos = \"bos\"\n",
    "compiled_model = compiling.compile_rasp_to_model(\n",
    "    reverse,\n",
    "    vocab={0, 1, 2, 3, 4, 5, 6, 7, 8, 9},\n",
    "    max_seq_len=9,\n",
    "    compiler_bos=bos,\n",
    ")"
   ]
  },
  {
   "cell_type": "code",
   "execution_count": 7,
   "id": "162d3d8a",
   "metadata": {},
   "outputs": [],
   "source": [
    "def extract_config(model, act_fn = \"relu\"):\n",
    "    model_config = {'activation_function': act_fn}\n",
    "    for key,val in model.model_config.__dict__.items():\n",
    "        if key == 'activation_function':\n",
    "            continue\n",
    "        model_config[key]=val\n",
    "    \n",
    "    model_config[\"max_seq_len\"] = model.params[\"pos_embed\"]['embeddings'].shape[0] \n",
    "    model_config[\"vocab_size\"] = model.params[\"token_embed\"]['embeddings'].shape[0] # Vocab size plus 2 for BOS and PAD\n",
    "    model_config[\"vocab_size_out\"] = model_config[\"vocab_size\"] - 2\n",
    "    model_config[\"hidden_size\"] = model.params[\"token_embed\"]['embeddings'].shape[1]\n",
    "    return model_config \n",
    "model_config = extract_config(compiled_model)"
   ]
  },
  {
   "cell_type": "code",
   "execution_count": 8,
   "id": "2a405696",
   "metadata": {},
   "outputs": [],
   "source": [
    "sd = {}\n",
    "for name in compiled_model.params:\n",
    "    if 'transformer' in name:\n",
    "        _, layer, module, param = name.split('/')\n",
    "        layer_num = layer.split('_')[1]\n",
    "        sd[f\"layers.{layer_num}.{module}.{param}.weight\"] = torch.transpose(torch.tensor(np.array(compiled_model.params[name]['w'])), 0, 1)\n",
    "        sd[f\"layers.{layer_num}.{module}.{param}.bias\"] = torch.tensor(np.array(compiled_model.params[name]['b']))\n",
    "    else:\n",
    "        sd[f\"{name}.embeddings\"] = torch.tensor(np.array(compiled_model.params[name]['embeddings']))"
   ]
  },
  {
   "cell_type": "code",
   "execution_count": 9,
   "id": "e56e2217",
   "metadata": {},
   "outputs": [
    {
     "data": {
      "text/plain": [
       "<All keys matched successfully>"
      ]
     },
     "execution_count": 9,
     "metadata": {},
     "output_type": "execute_result"
    }
   ],
   "source": [
    "trans_model = TransformerModel(model_config).eval()\n",
    "trans_model.load_state_dict(sd)"
   ]
  },
  {
   "cell_type": "code",
   "execution_count": 11,
   "id": "c3fdd8d2",
   "metadata": {},
   "outputs": [],
   "source": [
    "x = compiled_model.input_encoder.encode([\"bos\", 5,4,3])\n",
    "out = trans_model(x)"
   ]
  },
  {
   "cell_type": "code",
   "execution_count": 12,
   "id": "abfef407",
   "metadata": {},
   "outputs": [
    {
     "data": {
      "text/plain": [
       "tensor(0., grad_fn=<SelectBackward0>)"
      ]
     },
     "execution_count": 12,
     "metadata": {},
     "output_type": "execute_result"
    }
   ],
   "source": [
    "out[0,0]"
   ]
  },
  {
   "cell_type": "code",
   "execution_count": 13,
   "id": "787cebae",
   "metadata": {},
   "outputs": [
    {
     "data": {
      "text/plain": [
       "tensor([0, 0, 0, 0])"
      ]
     },
     "execution_count": 13,
     "metadata": {},
     "output_type": "execute_result"
    }
   ],
   "source": [
    "max_output_indices = torch.argmax(out, dim=1)\n",
    "max_output_indices"
   ]
  },
  {
   "cell_type": "code",
   "execution_count": null,
   "id": "fe27a8b9",
   "metadata": {},
   "outputs": [],
   "source": []
  }
 ],
 "metadata": {
  "kernelspec": {
   "display_name": "Python 3 (ipykernel)",
   "language": "python",
   "name": "python3"
  },
  "language_info": {
   "codemirror_mode": {
    "name": "ipython",
    "version": 3
   },
   "file_extension": ".py",
   "mimetype": "text/x-python",
   "name": "python",
   "nbconvert_exporter": "python",
   "pygments_lexer": "ipython3",
   "version": "3.9.13"
  }
 },
 "nbformat": 4,
 "nbformat_minor": 5
}
