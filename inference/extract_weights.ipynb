{
 "cells": [
  {
   "cell_type": "code",
   "execution_count": 1,
   "id": "81f5aa94",
   "metadata": {},
   "outputs": [
    {
     "name": "stdout",
     "output_type": "stream",
     "text": [
      "/Users/ellenar/git/thinking_like_transformers\n"
     ]
    }
   ],
   "source": [
    "cd ~/git/thinking_like_transformers"
   ]
  },
  {
   "cell_type": "code",
   "execution_count": 2,
   "id": "0eae6198",
   "metadata": {},
   "outputs": [],
   "source": [
    "#@title Imports\n",
    "import jax\n",
    "import numpy as np\n",
    "\n",
    "# The default of float16 can lead to discrepancies between outputs of\n",
    "# the compiled model and the RASP program.\n",
    "jax.config.update('jax_default_matmul_precision', 'float32')\n",
    "\n",
    "from tracr_utils.lib.tracr.compiler import compiling, assemble\n",
    "from tracr.rasp import rasp\n",
    "import torch\n",
    "import torch.nn as nn"
   ]
  },
  {
   "cell_type": "code",
   "execution_count": 3,
   "id": "402373a8",
   "metadata": {},
   "outputs": [],
   "source": [
    "from model.transformer_model import TransformerModel\n",
    "from inference.algorithms import *\n",
    "from inference.load_weights import extract_config, build_state_dict\n",
    "from utils import register_hooks"
   ]
  },
  {
   "cell_type": "code",
   "execution_count": 4,
   "id": "312f2043",
   "metadata": {},
   "outputs": [],
   "source": [
    "input_= ['bos',3,2,2,2]\n",
    "algorithm = hist()\n",
    "bos = \"bos\"\n",
    "compiled_model = compiling.compile_rasp_to_model(\n",
    "    algorithm,\n",
    "    vocab={1,2,3,4},\n",
    "    max_seq_len=5,\n",
    "    compiler_bos=bos,\n",
    ")\n",
    "decoded_output_1 = compiled_model.apply(input_)"
   ]
  },
  {
   "cell_type": "code",
   "execution_count": 5,
   "id": "249d366d",
   "metadata": {},
   "outputs": [],
   "source": [
    "model_config = extract_config(compiled_model)\n",
    "state_dict = build_state_dict(compiled_model)\n",
    "torch_model = TransformerModel(model_config).eval()\n",
    "activations_dict = {}\n",
    "register_hooks(torch_model, activations_dict)\n",
    "torch_model.load_state_dict(state_dict)\n",
    "   \n",
    "x = compiled_model.input_encoder.encode(input_)\n",
    "out = torch_model(x)"
   ]
  },
  {
   "cell_type": "code",
   "execution_count": 6,
   "id": "93345606",
   "metadata": {},
   "outputs": [],
   "source": [
    "decode_fn = get_decode_fn('hist', model_config)"
   ]
  },
  {
   "cell_type": "code",
   "execution_count": 7,
   "id": "d696da26",
   "metadata": {},
   "outputs": [
    {
     "data": {
      "text/plain": [
       "True"
      ]
     },
     "execution_count": 7,
     "metadata": {},
     "output_type": "execute_result"
    }
   ],
   "source": [
    "decoded_output_2 = decode_fn(out, compiled_model)\n",
    "decoded_output_2 == decoded_output_1.decoded"
   ]
  },
  {
   "cell_type": "code",
   "execution_count": 8,
   "id": "21c258c5",
   "metadata": {},
   "outputs": [
    {
     "data": {
      "text/plain": [
       "['bos', 1, 3, 3, 3]"
      ]
     },
     "execution_count": 8,
     "metadata": {},
     "output_type": "execute_result"
    }
   ],
   "source": [
    "decoded_output_1.decoded"
   ]
  },
  {
   "cell_type": "code",
   "execution_count": null,
   "id": "63a4e8ab",
   "metadata": {},
   "outputs": [],
   "source": []
  }
 ],
 "metadata": {
  "kernelspec": {
   "display_name": "Python 3 (ipykernel)",
   "language": "python",
   "name": "python3"
  },
  "language_info": {
   "codemirror_mode": {
    "name": "ipython",
    "version": 3
   },
   "file_extension": ".py",
   "mimetype": "text/x-python",
   "name": "python",
   "nbconvert_exporter": "python",
   "pygments_lexer": "ipython3",
   "version": "3.9.13"
  }
 },
 "nbformat": 4,
 "nbformat_minor": 5
}
