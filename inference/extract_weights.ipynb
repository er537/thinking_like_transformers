{
 "cells": [
  {
   "cell_type": "code",
   "execution_count": 1,
   "id": "81f5aa94",
   "metadata": {},
   "outputs": [
    {
     "name": "stdout",
     "output_type": "stream",
     "text": [
      "/Users/ellenar/git/thinking_like_transformers\n"
     ]
    }
   ],
   "source": [
    "cd ~/git/thinking_like_transformers"
   ]
  },
  {
   "cell_type": "code",
   "execution_count": 2,
   "id": "0eae6198",
   "metadata": {},
   "outputs": [],
   "source": [
    "#@title Imports\n",
    "import jax\n",
    "import numpy as np\n",
    "\n",
    "# The default of float16 can lead to discrepancies between outputs of\n",
    "# the compiled model and the RASP program.\n",
    "jax.config.update('jax_default_matmul_precision', 'float32')\n",
    "\n",
    "from tracr_utils.lib.tracr.compiler import compiling, assemble\n",
    "from tracr.rasp import rasp\n",
    "import torch\n",
    "import torch.nn as nn"
   ]
  },
  {
   "cell_type": "code",
   "execution_count": 3,
   "id": "402373a8",
   "metadata": {},
   "outputs": [
    {
     "name": "stderr",
     "output_type": "stream",
     "text": [
      "WARNING:absl:Creating a SequenceMap with both inputs being the same SOp is discouraged. You should use a Map instead.\n"
     ]
    }
   ],
   "source": [
    "from model.transformer_model import TransformerModel\n",
    "from inference.algorithms import make_length, reverse, hist\n",
    "from inference.load_weights import extract_config, build_state_dict\n",
    "from utils import register_hooks"
   ]
  },
  {
   "cell_type": "code",
   "execution_count": 46,
   "id": "312f2043",
   "metadata": {},
   "outputs": [],
   "source": [
    "input_= ['bos',3,2,2,2]\n",
    "algorithm = hist()\n",
    "bos = \"bos\"\n",
    "compiled_model = compiling.compile_rasp_to_model(\n",
    "    algorithm,\n",
    "    vocab={1,2,3,4},\n",
    "    max_seq_len=5,\n",
    "    compiler_bos=bos,\n",
    ")\n",
    "decoded_output_1 = compiled_model.apply(input_)"
   ]
  },
  {
   "cell_type": "code",
   "execution_count": 47,
   "id": "249d366d",
   "metadata": {},
   "outputs": [],
   "source": [
    "model_config = extract_config(compiled_model)\n",
    "state_dict = build_state_dict(compiled_model)\n",
    "torch_model = TransformerModel(model_config).eval()\n",
    "activations_dict = {}\n",
    "register_hooks(torch_model, activations_dict)\n",
    "torch_model.load_state_dict(state_dict)\n",
    "   \n",
    "x = compiled_model.input_encoder.encode(input_)\n",
    "logits = torch_model(x)\n",
    "# decode logits\n",
    "max_output_indices = torch.argmax(logits, dim=1)\n",
    "decoded_output_2 = compiled_model.output_encoder.decode(max_output_indices.tolist())[1:]"
   ]
  },
  {
   "cell_type": "code",
   "execution_count": 60,
   "id": "93345606",
   "metadata": {},
   "outputs": [
    {
     "data": {
      "text/plain": [
       "tensor([[ 0.0000e+00,  0.0000e+00,  0.0000e+00,  0.0000e+00,  0.0000e+00,\n",
       "          1.0000e+00,  0.0000e+00,  0.0000e+00,  0.0000e+00,  0.0000e+00,\n",
       "          0.0000e+00,  0.0000e+00,  0.0000e+00,  0.0000e+00,  0.0000e+00,\n",
       "          0.0000e+00,  0.0000e+00,  1.0000e+00,  0.0000e+00],\n",
       "        [ 1.0000e+00,  0.0000e+00,  0.0000e+00,  0.0000e+00,  0.0000e+00,\n",
       "          1.0000e+00,  0.0000e+00,  1.0000e+00,  0.0000e+00,  0.0000e+00,\n",
       "         -1.9073e-06,  1.9073e-06,  5.0000e-01,  0.0000e+00,  0.0000e+00,\n",
       "          1.0000e+00,  0.0000e+00,  0.0000e+00,  0.0000e+00],\n",
       "        [ 0.0000e+00,  1.0000e+00,  0.0000e+00,  0.0000e+00,  0.0000e+00,\n",
       "          1.0000e+00,  0.0000e+00,  0.0000e+00,  0.0000e+00,  1.0000e+00,\n",
       "          0.0000e+00,  0.0000e+00,  2.5000e-01,  0.0000e+00,  1.0000e+00,\n",
       "          0.0000e+00,  0.0000e+00,  0.0000e+00,  0.0000e+00],\n",
       "        [ 0.0000e+00,  0.0000e+00,  1.0000e+00,  0.0000e+00,  0.0000e+00,\n",
       "          1.0000e+00,  0.0000e+00,  0.0000e+00,  0.0000e+00,  1.0000e+00,\n",
       "          0.0000e+00,  0.0000e+00,  2.5000e-01,  0.0000e+00,  1.0000e+00,\n",
       "          0.0000e+00,  0.0000e+00,  0.0000e+00,  0.0000e+00],\n",
       "        [ 0.0000e+00,  0.0000e+00,  0.0000e+00,  1.0000e+00,  0.0000e+00,\n",
       "          1.0000e+00,  0.0000e+00,  0.0000e+00,  0.0000e+00,  1.0000e+00,\n",
       "          0.0000e+00,  0.0000e+00,  2.5000e-01,  0.0000e+00,  1.0000e+00,\n",
       "          0.0000e+00,  0.0000e+00,  0.0000e+00,  0.0000e+00]],\n",
       "       grad_fn=<AddBackward0>)"
      ]
     },
     "execution_count": 60,
     "metadata": {},
     "output_type": "execute_result"
    }
   ],
   "source": [
    "logits"
   ]
  },
  {
   "cell_type": "code",
   "execution_count": 77,
   "id": "0fcfb392",
   "metadata": {},
   "outputs": [],
   "source": [
    "output = []\n",
    "for i in range(logits.shape[0]):\n",
    "    out=1/torch.round(logits[i,:], decimals=3)\n",
    "    out=int(torch.max(torch.nan_to_num(out, nan=0.0, posinf=0.0, neginf=0.0)).item()-1)\n",
    "    output.append(out)"
   ]
  }
 ],
 "metadata": {
  "kernelspec": {
   "display_name": "Python 3 (ipykernel)",
   "language": "python",
   "name": "python3"
  },
  "language_info": {
   "codemirror_mode": {
    "name": "ipython",
    "version": 3
   },
   "file_extension": ".py",
   "mimetype": "text/x-python",
   "name": "python",
   "nbconvert_exporter": "python",
   "pygments_lexer": "ipython3",
   "version": "3.9.13"
  }
 },
 "nbformat": 4,
 "nbformat_minor": 5
}
